{
 "cells": [
  {
   "cell_type": "markdown",
   "id": "f6f57d9a",
   "metadata": {},
   "source": [
    "# # Bayesian Network for Modeling Dependencies in Cost Estimation\n",
    "First attemot at bayesian network:\n",
    "This isexample code to model dependencies in cost estimation for engineering projects using a Bayesian Network. The network includes variables such as Labor Costs, Material Costs, and Project Duration, and will perform probabilistic queries on the network.\n",
    "\n"
   ]
  },
  {
   "cell_type": "code",
   "execution_count": 1,
   "id": "b02f89a5",
   "metadata": {},
   "outputs": [
    {
     "name": "stderr",
     "output_type": "stream",
     "text": [
      "INFO:numexpr.utils:NumExpr defaulting to 8 threads.\n"
     ]
    }
   ],
   "source": [
    "# Import necessary modules\n",
    "# pgmpy is a python libraries for probabilistic graphical models \n",
    "from pgmpy.models import BayesianNetwork\n",
    "from pgmpy.factors.discrete import TabularCPD\n",
    "from pgmpy.inference import VariableElimination\n"
   ]
  },
  {
   "cell_type": "markdown",
   "id": "a088a86b",
   "metadata": {},
   "source": [
    "### Step 1: Define Structure\n",
    "We define the structure of the Bayesian Network, which includes the cost-significant items (CSIs) and the dependencies between them. \n"
   ]
  },
  {
   "cell_type": "code",
   "execution_count": 2,
   "id": "d98a4313",
   "metadata": {},
   "outputs": [],
   "source": [
    "# Define the Bayesian Network Structure (CSIs and Dependencies)\n",
    "model = BayesianNetwork([\n",
    "    ('Risk_and_Contingency', 'Project_Duration'),\n",
    "    ('Project_Duration', 'Labor_Costs'),\n",
    "    ('Inflation', 'Material_Costs'),\n",
    "    ('Inflation', 'Equipment_Costs'),\n",
    "    ('Permits', 'Project_Duration'),\n",
    "    ('Project_Duration', 'Subcontractor_Costs'),\n",
    "    ('Project_Duration', 'Overhead_and_Management')\n",
    "])\n"
   ]
  },
  {
   "cell_type": "markdown",
   "id": "09a5002f",
   "metadata": {},
   "source": [
    "![Bayesian Network Structure](bayesian_network_structure_resized.png)\n"
   ]
  },
  {
   "cell_type": "markdown",
   "id": "a69cf1fd",
   "metadata": {},
   "source": [
    "above is the structure of this network, it has nodes represnting the CSIs. affects are more cause and affect relationships than influences. i.e project duration will have a strong affect on labour costs."
   ]
  },
  {
   "cell_type": "markdown",
   "id": "073d0914",
   "metadata": {},
   "source": [
    "### Step 2: Define the Conditional Probability Distributions (CPDs)\n",
    "Each node (variable) in the network requires a Conditional Probability Distribution (CPD), which defines the likelihood of each state of the variable, depending on the states of its parent nodes.\n"
   ]
  },
  {
   "cell_type": "code",
   "execution_count": null,
   "id": "464e1b4e",
   "metadata": {},
   "outputs": [],
   "source": []
  },
  {
   "cell_type": "code",
   "execution_count": 3,
   "id": "94b4c7b3",
   "metadata": {},
   "outputs": [],
   "source": [
    "# Define CPDs for each node in the network\n",
    "cpd_risk = TabularCPD(variable='Risk_and_Contingency', variable_card=2, \n",
    "                      values=[[0.8], [0.2]])\n",
    "\n",
    "cpd_duration = TabularCPD(variable='Project_Duration', variable_card=2,\n",
    "                          values=[[0.9, 0.7, 0.5, 0.3],\n",
    "                                  [0.1, 0.3, 0.5, 0.7]],\n",
    "                          evidence=['Risk_and_Contingency', 'Permits'],\n",
    "                          evidence_card=[2, 2])\n",
    "\n",
    "cpd_labor = TabularCPD(variable='Labor_Costs', variable_card=2,\n",
    "                       values=[[0.8, 0.4],\n",
    "                               [0.2, 0.6]],\n",
    "                       evidence=['Project_Duration'],\n",
    "                       evidence_card=[2])\n",
    "\n",
    "cpd_material = TabularCPD(variable='Material_Costs', variable_card=2,\n",
    "                          values=[[0.7, 0.4],\n",
    "                                  [0.3, 0.6]],\n",
    "                          evidence=['Inflation'],\n",
    "                          evidence_card=[2])\n",
    "\n",
    "cpd_equipment = TabularCPD(variable='Equipment_Costs', variable_card=2,\n",
    "                           values=[[0.75, 0.5],\n",
    "                                   [0.25, 0.5]],\n",
    "                           evidence=['Inflation'],\n",
    "                           evidence_card=[2])\n",
    "\n",
    "cpd_subcontractor = TabularCPD(variable='Subcontractor_Costs', variable_card=2,\n",
    "                               values=[[0.85, 0.45],\n",
    "                                       [0.15, 0.55]],\n",
    "                               evidence=['Project_Duration'],\n",
    "                               evidence_card=[2])\n",
    "\n",
    "cpd_overhead = TabularCPD(variable='Overhead_and_Management', variable_card=2,\n",
    "                          values=[[0.7, 0.3],\n",
    "                                  [0.3, 0.7]],\n",
    "                          evidence=['Project_Duration'],\n",
    "                          evidence_card=[2])\n",
    "\n",
    "cpd_permits = TabularCPD(variable='Permits', variable_card=2, \n",
    "                         values=[[0.6], [0.4]])\n",
    "\n",
    "cpd_inflation = TabularCPD(variable='Inflation', variable_card=2, \n",
    "                           values=[[0.7], [0.3]])\n"
   ]
  },
  {
   "cell_type": "markdown",
   "id": "540dbf6a",
   "metadata": {},
   "source": [
    "### Step 3: Add CPDs to the Model and Check Validity\n",
    "We now add the defined CPDs to the Bayesian Network and verify that the model structure is valid.\n",
    "checks this by seeing if all CPDs and correct Dependencies are applies"
   ]
  },
  {
   "cell_type": "code",
   "execution_count": 4,
   "id": "edd13c79",
   "metadata": {},
   "outputs": [],
   "source": [
    "# Add CPDs to the Model\n",
    "model.add_cpds(cpd_risk, cpd_duration, cpd_labor, cpd_material, cpd_equipment, \n",
    "               cpd_subcontractor, cpd_overhead, cpd_permits, cpd_inflation)\n",
    "\n",
    "# Check if the model is valid\n",
    "assert model.check_model()\n"
   ]
  },
  {
   "cell_type": "markdown",
   "id": "f726a5b3",
   "metadata": {},
   "source": [
    "### Step 4: Define the Cost Components and Total Cost Function\n",
    "\n",
    "Here, we define the cost components of the project (labor, material, equipment, subcontractor, and overhead costs) based on the values sampled from the Bayesian Network. Each sample will either have a high or low cost for each component, and we will calculate the total cost for the project by summing these individual costs.\n"
   ]
  },
  {
   "cell_type": "code",
   "execution_count": 5,
   "id": "a9d3bc06",
   "metadata": {},
   "outputs": [],
   "source": [
    "import numpy as np\n",
    "import plotly.graph_objects as go\n",
    "from pgmpy.sampling import BayesianModelSampling\n",
    "\n",
    "\n",
    "# Define the cost components as sums of the sampled variables\n",
    "def calculate_total_cost(sample):\n",
    "    labor_cost = 100000 if sample['Labor_Costs'] == 0 else 150000\n",
    "    material_cost = 50000 if sample['Material_Costs'] == 0 else 80000\n",
    "    equipment_cost = 70000 if sample['Equipment_Costs'] == 0 else 90000\n",
    "    subcontractor_cost = 30000 if sample['Subcontractor_Costs'] == 0 else 50000\n",
    "    overhead_cost = 20000 if sample['Overhead_and_Management'] == 0 else 40000\n",
    "    total_cost = labor_cost + material_cost + equipment_cost + subcontractor_cost + overhead_cost\n",
    "    return total_cost\n"
   ]
  },
  {
   "cell_type": "markdown",
   "id": "1b260516",
   "metadata": {},
   "source": [
    "### Step 5: Sample from the Bayesian Network\n",
    "\n",
    "We generate 1,000 samples from the Bayesian Network using the `forward_sample()` function. Each sample represents one possible combination of values for the project's cost components (labor, material, equipment, subcontractor, and overhead costs).\n"
   ]
  },
  {
   "cell_type": "code",
   "execution_count": 6,
   "id": "5b60d5f9",
   "metadata": {},
   "outputs": [
    {
     "data": {
      "application/vnd.jupyter.widget-view+json": {
       "model_id": "f4aead8a2a5c4b308d15249ce949ae44",
       "version_major": 2,
       "version_minor": 0
      },
      "text/plain": [
       "  0%|          | 0/9 [00:00<?, ?it/s]"
      ]
     },
     "metadata": {},
     "output_type": "display_data"
    }
   ],
   "source": [
    "# Sample from the Bayesian Network\n",
    "inference = BayesianModelSampling(model)\n",
    "samples = inference.forward_sample(size=1000)\n"
   ]
  },
  {
   "cell_type": "markdown",
   "id": "54ecf7aa",
   "metadata": {},
   "source": [
    "### Step 6: Calculate Total Project Cost\n",
    "\n",
    "We now calculate the total project cost for each sample by applying the `calculate_total_cost()` function. This results in a total project cost for each sample, taking into account all the cost components.\n"
   ]
  },
  {
   "cell_type": "code",
   "execution_count": 7,
   "id": "07665bed",
   "metadata": {},
   "outputs": [],
   "source": [
    "# Calculate the total cost for each sample\n",
    "total_costs = samples.apply(calculate_total_cost, axis=1)\n"
   ]
  },
  {
   "cell_type": "markdown",
   "id": "ea560fe4",
   "metadata": {},
   "source": [
    "### Step 4: Generate the Cumulative Distribution Function (CDF)\n",
    "\n",
    "Once we have the total project costs for all the samples, we calculate the CDF. The CDF tells us the cumulative probability that the total project cost will be less than or equal to a given amount. To generate the CDF, we first sort the total costs and then calculate the cumulative probabilities.\n"
   ]
  },
  {
   "cell_type": "code",
   "execution_count": 8,
   "id": "9df5ba9b",
   "metadata": {},
   "outputs": [],
   "source": [
    "# Generate the CDF\n",
    "sorted_costs = np.sort(total_costs)\n",
    "cdf = np.arange(1, len(sorted_costs) + 1) / len(sorted_costs)\n"
   ]
  },
  {
   "cell_type": "markdown",
   "id": "e2bff61d",
   "metadata": {},
   "source": [
    "### Step 5: Visualize the Cumulative Distribution Function (CDF) with Plotly\n",
    "uses Plotly to visualize the CDF of the total project costs. The CDF plot shows the probability that the project cost will be below a certain value. This helps in understanding the risk and possible cost overruns.\n"
   ]
  },
  {
   "cell_type": "markdown",
   "id": "461516f9",
   "metadata": {},
   "source": [
    "![CDF Project Costs](cdf_project_costs.png)\n"
   ]
  },
  {
   "cell_type": "code",
   "execution_count": null,
   "id": "43b85ef1",
   "metadata": {},
   "outputs": [],
   "source": []
  }
 ],
 "metadata": {
  "kernelspec": {
   "display_name": "Python 3 (ipykernel)",
   "language": "python",
   "name": "python3"
  },
  "language_info": {
   "codemirror_mode": {
    "name": "ipython",
    "version": 3
   },
   "file_extension": ".py",
   "mimetype": "text/x-python",
   "name": "python",
   "nbconvert_exporter": "python",
   "pygments_lexer": "ipython3",
   "version": "3.11.5"
  }
 },
 "nbformat": 4,
 "nbformat_minor": 5
}
